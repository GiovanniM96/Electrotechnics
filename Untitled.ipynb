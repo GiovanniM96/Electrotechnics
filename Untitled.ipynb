{
 "cells": [
  {
   "cell_type": "markdown",
   "id": "61f79168-0809-4f78-8a21-389604e39198",
   "metadata": {},
   "source": [
    "# Rete alberi e coalberi"
   ]
  },
  {
   "cell_type": "code",
   "execution_count": 1,
   "id": "b411c4a4-8e8c-48a0-aa9c-04072d4a09e1",
   "metadata": {},
   "outputs": [
    {
     "name": "stdout",
     "output_type": "stream",
     "text": [
      "Il numero di equazioni e': 23\n"
     ]
    }
   ],
   "source": [
    "# Importiamo le librerie necessarie\n",
    "import numpy as np\n",
    "\n",
    "# Definiamo le dimensioni della rete neurale\n",
    "input_layer_size = 4\n",
    "hidden_layer_size = 3\n",
    "output_layer_size = 2\n",
    "\n",
    "# Inizializziamo i pesi della rete neurale\n",
    "Theta1 = np.random.rand(hidden_layer_size, input_layer_size + 1)\n",
    "Theta2 = np.random.rand(output_layer_size, hidden_layer_size + 1)\n",
    "\n",
    "# Uniamo i pesi in un singolo vettore\n",
    "nn_params = np.concatenate((Theta1.reshape(-1), Theta2.reshape(-1)))\n",
    "\n",
    "# Definiamo la funzione costo per la rete neurale\n",
    "def cost_function(nn_params, input_layer_size, hidden_layer_size, \n",
    "                  output_layer_size, X, y, lambda_reg):\n",
    "    # Riassembliamo i pesi dal vettore nn_params\n",
    "    Theta1 = nn_params[:hidden_layer_size * (input_layer_size + 1)].reshape(\n",
    "        hidden_layer_size, input_layer_size + 1)\n",
    "    Theta2 = nn_params[hidden_layer_size * (input_layer_size + 1):].reshape(\n",
    "        output_layer_size, hidden_layer_size + 1)\n",
    "    \n",
    "    # Calcoliamo la funzione costo e la sua regolarizzazione\n",
    "    # ...\n",
    "    \n",
    "    # Restituiamo la funzione costo e i gradienti\n",
    "    # ...\n",
    "\n",
    "# Definiamo la funzione per il conteggio del numero di equazioni\n",
    "def count_equations(input_layer_size, hidden_layer_size, output_layer_size):\n",
    "    # Il numero di equazioni e' dato dalla somma delle dimensioni dei layer di input, hidden e output\n",
    "    num_equations = (input_layer_size + 1) * hidden_layer_size + (hidden_layer_size + 1) * output_layer_size\n",
    "    \n",
    "    return num_equations\n",
    "\n",
    "# Utilizziamo la funzione per il conteggio delle equazioni\n",
    "num_equations = count_equations(input_layer_size, hidden_layer_size, output_layer_size)\n",
    "print(\"Il numero di equazioni e':\", num_equations)\n"
   ]
  },
  {
   "cell_type": "code",
   "execution_count": 9,
   "id": "5729a2fb-fc0d-40f6-b67f-ff289d7d2d4f",
   "metadata": {},
   "outputs": [
    {
     "ename": "ImportError",
     "evalue": "cannot import name 'imresize' from 'scipy.misc' (/Users/giovanni/opt/anaconda3/lib/python3.9/site-packages/scipy/misc/__init__.py)",
     "output_type": "error",
     "traceback": [
      "\u001b[0;31m---------------------------------------------------------------------------\u001b[0m",
      "\u001b[0;31mImportError\u001b[0m                               Traceback (most recent call last)",
      "\u001b[0;32m/var/folders/b2/kqnx_r5555gfw4sz0bdz9b440000gp/T/ipykernel_33308/4016040103.py\u001b[0m in \u001b[0;36m<module>\u001b[0;34m\u001b[0m\n\u001b[1;32m      2\u001b[0m \u001b[0;32mfrom\u001b[0m \u001b[0mkeras\u001b[0m\u001b[0;34m.\u001b[0m\u001b[0mlayers\u001b[0m \u001b[0;32mimport\u001b[0m \u001b[0mDense\u001b[0m\u001b[0;34m\u001b[0m\u001b[0;34m\u001b[0m\u001b[0m\n\u001b[1;32m      3\u001b[0m \u001b[0;32mfrom\u001b[0m \u001b[0mkeras\u001b[0m\u001b[0;34m.\u001b[0m\u001b[0mutils\u001b[0m \u001b[0;32mimport\u001b[0m \u001b[0mplot_model\u001b[0m\u001b[0;34m\u001b[0m\u001b[0;34m\u001b[0m\u001b[0m\n\u001b[0;32m----> 4\u001b[0;31m \u001b[0;32mfrom\u001b[0m \u001b[0mvis\u001b[0m\u001b[0;34m.\u001b[0m\u001b[0mvisualization\u001b[0m \u001b[0;32mimport\u001b[0m \u001b[0mvisualize_saliency\u001b[0m\u001b[0;34m\u001b[0m\u001b[0;34m\u001b[0m\u001b[0m\n\u001b[0m\u001b[1;32m      5\u001b[0m \u001b[0;34m\u001b[0m\u001b[0m\n\u001b[1;32m      6\u001b[0m \u001b[0;31m# Create the model\u001b[0m\u001b[0;34m\u001b[0m\u001b[0;34m\u001b[0m\u001b[0m\n",
      "\u001b[0;32m~/opt/anaconda3/lib/python3.9/site-packages/vis/visualization/__init__.py\u001b[0m in \u001b[0;36m<module>\u001b[0;34m\u001b[0m\n\u001b[1;32m      5\u001b[0m \u001b[0;32mfrom\u001b[0m \u001b[0;34m.\u001b[0m\u001b[0mactivation_maximization\u001b[0m \u001b[0;32mimport\u001b[0m \u001b[0mvisualize_activation\u001b[0m\u001b[0;34m\u001b[0m\u001b[0;34m\u001b[0m\u001b[0m\n\u001b[1;32m      6\u001b[0m \u001b[0;34m\u001b[0m\u001b[0m\n\u001b[0;32m----> 7\u001b[0;31m \u001b[0;32mfrom\u001b[0m \u001b[0;34m.\u001b[0m\u001b[0msaliency\u001b[0m \u001b[0;32mimport\u001b[0m \u001b[0mvisualize_saliency_with_losses\u001b[0m\u001b[0;34m\u001b[0m\u001b[0;34m\u001b[0m\u001b[0m\n\u001b[0m\u001b[1;32m      8\u001b[0m \u001b[0;32mfrom\u001b[0m \u001b[0;34m.\u001b[0m\u001b[0msaliency\u001b[0m \u001b[0;32mimport\u001b[0m \u001b[0mvisualize_saliency\u001b[0m\u001b[0;34m\u001b[0m\u001b[0;34m\u001b[0m\u001b[0m\n\u001b[1;32m      9\u001b[0m \u001b[0;32mfrom\u001b[0m \u001b[0;34m.\u001b[0m\u001b[0msaliency\u001b[0m \u001b[0;32mimport\u001b[0m \u001b[0mvisualize_cam_with_losses\u001b[0m\u001b[0;34m\u001b[0m\u001b[0;34m\u001b[0m\u001b[0m\n",
      "\u001b[0;32m~/opt/anaconda3/lib/python3.9/site-packages/vis/visualization/saliency.py\u001b[0m in \u001b[0;36m<module>\u001b[0;34m\u001b[0m\n\u001b[1;32m      3\u001b[0m \u001b[0;32mimport\u001b[0m \u001b[0mnumpy\u001b[0m \u001b[0;32mas\u001b[0m \u001b[0mnp\u001b[0m\u001b[0;34m\u001b[0m\u001b[0;34m\u001b[0m\u001b[0m\n\u001b[1;32m      4\u001b[0m \u001b[0;32mimport\u001b[0m \u001b[0mmatplotlib\u001b[0m\u001b[0;34m.\u001b[0m\u001b[0mcm\u001b[0m \u001b[0;32mas\u001b[0m \u001b[0mcm\u001b[0m\u001b[0;34m\u001b[0m\u001b[0;34m\u001b[0m\u001b[0m\n\u001b[0;32m----> 5\u001b[0;31m \u001b[0;32mfrom\u001b[0m \u001b[0mscipy\u001b[0m\u001b[0;34m.\u001b[0m\u001b[0mmisc\u001b[0m \u001b[0;32mimport\u001b[0m \u001b[0mimresize\u001b[0m\u001b[0;34m\u001b[0m\u001b[0;34m\u001b[0m\u001b[0m\n\u001b[0m\u001b[1;32m      6\u001b[0m \u001b[0;34m\u001b[0m\u001b[0m\n\u001b[1;32m      7\u001b[0m \u001b[0;32mfrom\u001b[0m \u001b[0mkeras\u001b[0m\u001b[0;34m.\u001b[0m\u001b[0mlayers\u001b[0m\u001b[0;34m.\u001b[0m\u001b[0mconvolutional\u001b[0m \u001b[0;32mimport\u001b[0m \u001b[0m_Conv\u001b[0m\u001b[0;34m\u001b[0m\u001b[0;34m\u001b[0m\u001b[0m\n",
      "\u001b[0;31mImportError\u001b[0m: cannot import name 'imresize' from 'scipy.misc' (/Users/giovanni/opt/anaconda3/lib/python3.9/site-packages/scipy/misc/__init__.py)"
     ]
    }
   ],
   "source": [
    "from keras.models import Sequential\n",
    "from keras.layers import Dense\n",
    "from keras.utils import plot_model\n",
    "from vis.visualization import visualize_saliency\n",
    "from scipy.ndimage import zoom\n",
    "\n",
    "\n",
    "# Create the model\n",
    "model = Sequential()\n",
    "model.add(Dense(10, activation='relu', input_dim=1000))\n",
    "model.add(Dense(10, activation='relu'))\n",
    "model.add(Dense(10, activation='relu'))\n",
    "model.add(Dense(10, activation='softmax'))\n",
    "\n",
    "# Visualize the model\n",
    "plot_model(model, to_file='model.png', show_shapes=True, show_layer_names=True)\n"
   ]
  },
  {
   "cell_type": "code",
   "execution_count": null,
   "id": "9411f60d-ef15-4753-bbf5-52ae345b857a",
   "metadata": {},
   "outputs": [],
   "source": []
  }
 ],
 "metadata": {
  "kernelspec": {
   "display_name": "Python 3 (ipykernel)",
   "language": "python",
   "name": "python3"
  },
  "language_info": {
   "codemirror_mode": {
    "name": "ipython",
    "version": 3
   },
   "file_extension": ".py",
   "mimetype": "text/x-python",
   "name": "python",
   "nbconvert_exporter": "python",
   "pygments_lexer": "ipython3",
   "version": "3.9.7"
  }
 },
 "nbformat": 4,
 "nbformat_minor": 5
}
